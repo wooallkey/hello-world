{
  "nbformat": 4,
  "nbformat_minor": 0,
  "metadata": {
    "colab": {
      "name": "tf_keras_classification_model.ipynb",
      "provenance": [],
      "collapsed_sections": [],
      "toc_visible": true,
      "authorship_tag": "ABX9TyN3KZ6fOaTPGydTPs7Y8OF0",
      "include_colab_link": true
    },
    "kernelspec": {
      "name": "python3",
      "display_name": "Python 3"
    }
  },
  "cells": [
    {
      "cell_type": "markdown",
      "metadata": {
        "id": "view-in-github",
        "colab_type": "text"
      },
      "source": [
        "<a href=\"https://colab.research.google.com/github/wooallkey/hello-world/blob/master/tf_keras_classification_model.ipynb\" target=\"_parent\"><img src=\"https://colab.research.google.com/assets/colab-badge.svg\" alt=\"Open In Colab\"/></a>"
      ]
    },
    {
      "cell_type": "code",
      "metadata": {
        "id": "jWX_iY6N_6TG",
        "colab_type": "code",
        "outputId": "92c18445-12f7-4e2d-988c-40d98407b905",
        "colab": {
          "base_uri": "https://localhost:8080/",
          "height": 34
        }
      },
      "source": [
        "try:\n",
        "  from google.colab import drive\n",
        "  %tensorflow_version 2.x\n",
        "  print(\"Note: using Google CoLab\")\n",
        "except:\n",
        "  print(\"Note: not using Google CoLab\")\n",
        "  COLAB = False"
      ],
      "execution_count": 0,
      "outputs": [
        {
          "output_type": "stream",
          "text": [
            "Note: using Google CoLab\n"
          ],
          "name": "stdout"
        }
      ]
    },
    {
      "cell_type": "markdown",
      "metadata": {
        "id": "L8WC006zCbDN",
        "colab_type": "text"
      },
      "source": [
        "测试是否运行在colab上"
      ]
    },
    {
      "cell_type": "code",
      "metadata": {
        "id": "5Ns_MqcoAy-E",
        "colab_type": "code",
        "outputId": "57e33efc-41a9-4c87-8183-4eacc4238a8e",
        "colab": {
          "base_uri": "https://localhost:8080/",
          "height": 170
        }
      },
      "source": [
        "import pandas as pd\n",
        "import numpy as np\n",
        "import matplotlib as mpl\n",
        "import matplotlib.pyplot as plt\n",
        "%matplotlib inline\n",
        "import sklearn\n",
        "import sys\n",
        "import os\n",
        "import time\n",
        "import tensorflow as tf\n",
        "from tensorflow import keras\n",
        "print(tf.__version__)\n",
        "print(sys.version)\n",
        "for module in np,pd,mpl,sklearn,tf,keras:\n",
        "  print(module.__name__,module.__version__)"
      ],
      "execution_count": 0,
      "outputs": [
        {
          "output_type": "stream",
          "text": [
            "2.2.0-rc2\n",
            "3.6.9 (default, Nov  7 2019, 10:44:02) \n",
            "[GCC 8.3.0]\n",
            "numpy 1.18.2\n",
            "pandas 1.0.3\n",
            "matplotlib 3.2.1\n",
            "sklearn 0.22.2.post1\n",
            "tensorflow 2.2.0-rc2\n",
            "tensorflow.keras 2.3.0-tf\n"
          ],
          "name": "stdout"
        }
      ]
    },
    {
      "cell_type": "code",
      "metadata": {
        "id": "y-QmDopqJ3Uw",
        "colab_type": "code",
        "outputId": "9b1263ee-c07d-4710-bde6-5d0445192b5c",
        "colab": {
          "base_uri": "https://localhost:8080/",
          "height": 204
        }
      },
      "source": [
        "fashion_mnist = keras.datasets.fashion_mnist\n",
        "(x_train_all,y_train_all),(x_test,y_test)=fashion_mnist.load_data()\n",
        "x_vaild,x_train = x_train_all[:5000],x_train_all[5000:]\n",
        "y_vaild,y_train = y_train_all[:5000],y_train_all[5000:]\n",
        "print(x_vaild.shape,y_vaild.shape)\n",
        "print(x_train.shape,y_train.shape)\n",
        "print(x_test.shape,y_test.shape)"
      ],
      "execution_count": 0,
      "outputs": [
        {
          "output_type": "stream",
          "text": [
            "Downloading data from https://storage.googleapis.com/tensorflow/tf-keras-datasets/train-labels-idx1-ubyte.gz\n",
            "32768/29515 [=================================] - 0s 0us/step\n",
            "Downloading data from https://storage.googleapis.com/tensorflow/tf-keras-datasets/train-images-idx3-ubyte.gz\n",
            "26427392/26421880 [==============================] - 0s 0us/step\n",
            "Downloading data from https://storage.googleapis.com/tensorflow/tf-keras-datasets/t10k-labels-idx1-ubyte.gz\n",
            "8192/5148 [===============================================] - 0s 0us/step\n",
            "Downloading data from https://storage.googleapis.com/tensorflow/tf-keras-datasets/t10k-images-idx3-ubyte.gz\n",
            "4423680/4422102 [==============================] - 0s 0us/step\n",
            "(5000, 28, 28) (5000,)\n",
            "(55000, 28, 28) (55000,)\n",
            "(10000, 28, 28) (10000,)\n"
          ],
          "name": "stdout"
        }
      ]
    },
    {
      "cell_type": "code",
      "metadata": {
        "id": "8sWRxSHEM5YB",
        "colab_type": "code",
        "outputId": "a195e84f-e618-4040-96f4-6738ad775d4b",
        "colab": {
          "base_uri": "https://localhost:8080/",
          "height": 265
        }
      },
      "source": [
        "def show_single_image(img_arr):\n",
        "  plt.imshow(img_arr,cmap='binary')\n",
        "  plt.show()\n",
        "\n",
        "show_single_image(x_train[0])"
      ],
      "execution_count": 0,
      "outputs": [
        {
          "output_type": "display_data",
          "data": {
            "image/png": "[encoded data removed]",
            "text/plain": [
              "<Figure size 432x288 with 1 Axes>"
            ]
          },
          "metadata": {
            "tags": [],
            "needs_background": "light"
          }
        }
      ]
    },
    {
      "cell_type": "code",
      "metadata": {
        "id": "07o0cQm-OM8u",
        "colab_type": "code",
        "outputId": "89114cd0-5e00-4c36-d3d8-ed93b7bcabab",
        "colab": {
          "base_uri": "https://localhost:8080/",
          "height": 298
        }
      },
      "source": [
        "def show_imgs(n_rows,n_cols,x_data,y_data,class_name):\n",
        "  assert len(x_data) == len(y_data)\n",
        "  assert n_rows * n_cols < len(x_data)\n",
        "  plt.figure(figsize=(n_cols*1.4,n_rows*1.6))\n",
        "  for row in range(n_rows):\n",
        "    for cols in range(n_cols):\n",
        "      index = cols + row * n_cols\n",
        "      plt.subplot(n_rows,n_cols,index+1)\n",
        "      plt.imshow(x_data[index],cmap='binary',\n",
        "            interpolation=\"nearest\")\n",
        "      plt.axis(\"off\")\n",
        "      plt.title(class_name[y_data[index]])\n",
        "  plt.show()\n",
        "\n",
        "class_name = [\"T-shirt\",\"Trouser\",\"Pullover\",\"Dress\",\n",
        "        \"Coat\",\"Sandal\",\"Shirt\",\"Sneaker\",\n",
        "        \"Bag\",\"Ankla boot\"]\n",
        "show_imgs(3,5,x_train,y_train,class_name)"
      ],
      "execution_count": 0,
      "outputs": [
        {
          "output_type": "display_data",
          "data": {
            "image/png": "[encoded data removed]",
            "text/plain": [
              "<Figure size 504x345.6 with 15 Axes>"
            ]
          },
          "metadata": {
            "tags": [],
            "needs_background": "light"
          }
        }
      ]
    },
    {
      "cell_type": "code",
      "metadata": {
        "id": "5HeEDeSYSMV2",
        "colab_type": "code",
        "colab": {}
      },
      "source": [
        "model = keras.models.Sequential()\n",
        "model.add(keras.layers.Flatten(input_shape=[28,28]))\n",
        "model.add(keras.layers.Dense(300,activation=\"relu\"))\n",
        "model.add(keras.layers.Dense(100,activation=\"relu\"))\n",
        "model.add(keras.layers.Dense(10,activation=\"softmax\"))\n",
        "\n",
        "model.compile(loss=\"sparse_categorical_crossentropy\",\n",
        "       optimizer=\"sgd\",\n",
        "       metrics=[\"accuracy\"])"
      ],
      "execution_count": 0,
      "outputs": []
    },
    {
      "cell_type": "code",
      "metadata": {
        "id": "2fAa84HChpPy",
        "colab_type": "code",
        "outputId": "19b12d15-fda9-47fc-d482-e4e49040d245",
        "colab": {
          "base_uri": "https://localhost:8080/",
          "height": 357
        }
      },
      "source": [
        "history = model.fit(x_train,y_train,epochs=10,\n",
        "           validation_data=(x_vaild,y_vaild))"
      ],
      "execution_count": 0,
      "outputs": [
        {
          "output_type": "stream",
          "text": [
            "Epoch 1/10\n",
            "1719/1719 [==============================] - 5s 3ms/step - loss: 18026267651604480.0000 - accuracy: 0.0982 - val_loss: 2.3027 - val_accuracy: 0.0914\n",
            "Epoch 2/10\n",
            "1719/1719 [==============================] - 5s 3ms/step - loss: 2.3027 - accuracy: 0.0987 - val_loss: 2.3029 - val_accuracy: 0.0914\n",
            "Epoch 3/10\n",
            "1719/1719 [==============================] - 5s 3ms/step - loss: 2.3027 - accuracy: 0.0987 - val_loss: 2.3028 - val_accuracy: 0.0914\n",
            "Epoch 4/10\n",
            "1719/1719 [==============================] - 5s 3ms/step - loss: 2.3027 - accuracy: 0.0999 - val_loss: 2.3028 - val_accuracy: 0.0986\n",
            "Epoch 5/10\n",
            "1719/1719 [==============================] - 5s 3ms/step - loss: 2.3027 - accuracy: 0.0994 - val_loss: 2.3027 - val_accuracy: 0.1008\n",
            "Epoch 6/10\n",
            "1719/1719 [==============================] - 5s 3ms/step - loss: 2.3027 - accuracy: 0.0996 - val_loss: 2.3029 - val_accuracy: 0.0914\n",
            "Epoch 7/10\n",
            "1719/1719 [==============================] - 5s 3ms/step - loss: 2.3027 - accuracy: 0.0975 - val_loss: 2.3028 - val_accuracy: 0.0914\n",
            "Epoch 8/10\n",
            "1719/1719 [==============================] - 5s 3ms/step - loss: 2.3027 - accuracy: 0.0994 - val_loss: 2.3028 - val_accuracy: 0.0914\n",
            "Epoch 9/10\n",
            "1719/1719 [==============================] - 5s 3ms/step - loss: 2.3027 - accuracy: 0.0978 - val_loss: 2.3028 - val_accuracy: 0.0914\n",
            "Epoch 10/10\n",
            "1719/1719 [==============================] - 5s 3ms/step - loss: 2.3027 - accuracy: 0.0969 - val_loss: 2.3029 - val_accuracy: 0.1002\n"
          ],
          "name": "stdout"
        }
      ]
    },
    {
      "cell_type": "code",
      "metadata": {
        "id": "9LDDDjQBjjD7",
        "colab_type": "code",
        "outputId": "3b383ec7-4b0a-488a-d327-401255d8496e",
        "colab": {
          "base_uri": "https://localhost:8080/",
          "height": 324
        }
      },
      "source": [
        "def plot_learning_curvers(history):\n",
        "  pd.DataFrame(history.history).plot(figsize=(8,5))\n",
        "  plt.grid(True)\n",
        "  plt.gca().set_ylim(0,1)\n",
        "  plt.show()\n",
        "\n",
        "plot_learning_curvers(history)"
      ],
      "execution_count": 0,
      "outputs": [
        {
          "output_type": "display_data",
          "data": {
            "image/png": "[encoded data removed]",
            "text/plain": [
              "<Figure size 576x360 with 1 Axes>"
            ]
          },
          "metadata": {
            "tags": [],
            "needs_background": "light"
          }
        }
      ]
    },
    {
      "cell_type": "code",
      "metadata": {
        "id": "fBVRWV67mhR8",
        "colab_type": "code",
        "colab": {}
      },
      "source": [
        "model2 = keras.models.Sequential([\n",
        "     keras.layers.Flatten(input_shape=[28,28],\n",
        "     keras.layers.Dense(300,activation=\"relu\"),\n",
        "     keras.layers.Dense(100,activation=\"relu\"),\n",
        "     keras.layers.Dense(10,activation=\"softmax\")                                 \n",
        "])\n",
        "\n",
        "model2.compile(loss=\"sparse_categorical_crossentropy\",\n",
        "        optimizer = \"adam\",\n",
        "        metrics=[\"accuracy\"])"
      ],
      "execution_count": 0,
      "outputs": []
    },
    {
      "cell_type": "code",
      "metadata": {
        "id": "CO9SIYihpCp_",
        "colab_type": "code",
        "outputId": "5de8ae0f-1c5a-46da-cae8-8a7d415f8a6b",
        "colab": {
          "base_uri": "https://localhost:8080/",
          "height": 357
        }
      },
      "source": [
        "history = model2.fit(x_train,y_train,epochs=10,\n",
        "            validation_data=(x_vaild,y_vaild))"
      ],
      "execution_count": 0,
      "outputs": [
        {
          "output_type": "stream",
          "text": [
            "Epoch 1/10\n",
            "1719/1719 [==============================] - 6s 3ms/step - loss: 2.8877 - accuracy: 0.7538 - val_loss: 0.7045 - val_accuracy: 0.8046\n",
            "Epoch 2/10\n",
            "1719/1719 [==============================] - 6s 3ms/step - loss: 0.5539 - accuracy: 0.8168 - val_loss: 0.4892 - val_accuracy: 0.8362\n",
            "Epoch 3/10\n",
            "1719/1719 [==============================] - 6s 3ms/step - loss: 0.4638 - accuracy: 0.8366 - val_loss: 0.4541 - val_accuracy: 0.8472\n",
            "Epoch 4/10\n",
            "1719/1719 [==============================] - 6s 3ms/step - loss: 0.4427 - accuracy: 0.8451 - val_loss: 0.4341 - val_accuracy: 0.8564\n",
            "Epoch 5/10\n",
            "1719/1719 [==============================] - 6s 3ms/step - loss: 0.4247 - accuracy: 0.8495 - val_loss: 0.4018 - val_accuracy: 0.8580\n",
            "Epoch 6/10\n",
            "1719/1719 [==============================] - 5s 3ms/step - loss: 0.4017 - accuracy: 0.8581 - val_loss: 0.4836 - val_accuracy: 0.8342\n",
            "Epoch 7/10\n",
            "1719/1719 [==============================] - 6s 3ms/step - loss: 0.3860 - accuracy: 0.8640 - val_loss: 0.4774 - val_accuracy: 0.8480\n",
            "Epoch 8/10\n",
            "1719/1719 [==============================] - 6s 3ms/step - loss: 0.3743 - accuracy: 0.8669 - val_loss: 0.3871 - val_accuracy: 0.8680\n",
            "Epoch 9/10\n",
            "1719/1719 [==============================] - 6s 4ms/step - loss: 0.3647 - accuracy: 0.8701 - val_loss: 0.3763 - val_accuracy: 0.8718\n",
            "Epoch 10/10\n",
            "1719/1719 [==============================] - 6s 3ms/step - loss: 0.3543 - accuracy: 0.8735 - val_loss: 0.4168 - val_accuracy: 0.8538\n"
          ],
          "name": "stdout"
        }
      ]
    },
    {
      "cell_type": "code",
      "metadata": {
        "id": "W8NX_CQIqCp8",
        "colab_type": "code",
        "outputId": "c055f243-2ef5-4382-a444-6550faadf753",
        "colab": {
          "base_uri": "https://localhost:8080/",
          "height": 324
        }
      },
      "source": [
        "plot_learning_curvers(history)"
      ],
      "execution_count": 0,
      "outputs": [
        {
          "output_type": "display_data",
          "data": {
            "image/png": "[encoded data removed]",
            "text/plain": [
              "<Figure size 576x360 with 1 Axes>"
            ]
          },
          "metadata": {
            "tags": [],
            "needs_background": "light"
          }
        }
      ]
    },
    {
      "cell_type": "code",
      "metadata": {
        "id": "Lx1GvNkKqDyR",
        "colab_type": "code",
        "colab": {}
      },
      "source": [
        "from sklearn.preprocessing import StandardScaler"
      ],
      "execution_count": 0,
      "outputs": []
    },
    {
      "cell_type": "code",
      "metadata": {
        "id": "EpUYUpGlw7S7",
        "colab_type": "code",
        "colab": {}
      },
      "source": [
        "scaler = StandardScaler()\n",
        "\n",
        "x_train_scaler = scaler.fit_transform(x_train.astype(np.float32).reshape(-1,1)).reshape(-1,28,28)\n",
        "x_vaild_scaler = scaler.transform(x_vaild.astype(np.float32).reshape(-1,1)).reshape(-1,28,28)\n",
        "x_test_scaler = scaler.transform(x_test.astype(np.float32).reshape(-1,1)).reshape(-1,28,28)"
      ],
      "execution_count": 0,
      "outputs": []
    },
    {
      "cell_type": "code",
      "metadata": {
        "id": "3k8JaiAsyYbH",
        "colab_type": "code",
        "colab": {}
      },
      "source": [
        "model3 = keras.models.Sequential([\n",
        "    keras.layers.Flatten(input_shape=[28,28]),\n",
        "    keras.layers.Dense(300,activation=\"relu\"),\n",
        "    keras.layers.Dense(100,activation=\"relu\"),\n",
        "    keras.layers.Dense(10,activation=\"softmax\")                                 \n",
        "])\n",
        "\n",
        "model3.compile(loss=\"sparse_categorical_crossentropy\",\n",
        "        optimizer = \"adam\",\n",
        "        metrics=[\"accuracy\"])"
      ],
      "execution_count": 0,
      "outputs": []
    },
    {
      "cell_type": "code",
      "metadata": {
        "id": "l5wt8j4GzSbu",
        "colab_type": "code",
        "colab": {
          "base_uri": "https://localhost:8080/",
          "height": 357
        },
        "outputId": "2d5ade67-afd8-4e60-ea03-4ff1820e4d84"
      },
      "source": [
        "history = model3.fit(x_train_scaler,y_train,epochs=10,\n",
        "            validation_data=(x_vaild_scaler,y_vaild))"
      ],
      "execution_count": 23,
      "outputs": [
        {
          "output_type": "stream",
          "text": [
            "Epoch 1/10\n",
            "1719/1719 [==============================] - 6s 3ms/step - loss: 0.4605 - accuracy: 0.8309 - val_loss: 0.3599 - val_accuracy: 0.8718\n",
            "Epoch 2/10\n",
            "1719/1719 [==============================] - 6s 4ms/step - loss: 0.3528 - accuracy: 0.8696 - val_loss: 0.3524 - val_accuracy: 0.8700\n",
            "Epoch 3/10\n",
            "1719/1719 [==============================] - 6s 4ms/step - loss: 0.3179 - accuracy: 0.8809 - val_loss: 0.3210 - val_accuracy: 0.8826\n",
            "Epoch 4/10\n",
            "1719/1719 [==============================] - 6s 3ms/step - loss: 0.2926 - accuracy: 0.8911 - val_loss: 0.3339 - val_accuracy: 0.8806\n",
            "Epoch 5/10\n",
            "1719/1719 [==============================] - 6s 3ms/step - loss: 0.2742 - accuracy: 0.8977 - val_loss: 0.3438 - val_accuracy: 0.8752\n",
            "Epoch 6/10\n",
            "1719/1719 [==============================] - 5s 3ms/step - loss: 0.2594 - accuracy: 0.9027 - val_loss: 0.3091 - val_accuracy: 0.8872\n",
            "Epoch 7/10\n",
            "1719/1719 [==============================] - 6s 3ms/step - loss: 0.2444 - accuracy: 0.9073 - val_loss: 0.3082 - val_accuracy: 0.8906\n",
            "Epoch 8/10\n",
            "1719/1719 [==============================] - 6s 3ms/step - loss: 0.2361 - accuracy: 0.9114 - val_loss: 0.3122 - val_accuracy: 0.8938\n",
            "Epoch 9/10\n",
            "1719/1719 [==============================] - 6s 3ms/step - loss: 0.2210 - accuracy: 0.9170 - val_loss: 0.3101 - val_accuracy: 0.8948\n",
            "Epoch 10/10\n",
            "1719/1719 [==============================] - 6s 3ms/step - loss: 0.2103 - accuracy: 0.9206 - val_loss: 0.3588 - val_accuracy: 0.8932\n"
          ],
          "name": "stdout"
        }
      ]
    },
    {
      "cell_type": "code",
      "metadata": {
        "id": "kdaGmRRO0fuH",
        "colab_type": "code",
        "colab": {
          "base_uri": "https://localhost:8080/",
          "height": 324
        },
        "outputId": "e77885d2-6e64-4a9f-85f8-38d27db6e8b4"
      },
      "source": [
        "plot_learning_curvers(history)"
      ],
      "execution_count": 24,
      "outputs": [
        {
          "output_type": "display_data",
          "data": {
            "image/png": "[encoded data removed]",
            "text/plain": [
              "<Figure size 576x360 with 1 Axes>"
            ]
          },
          "metadata": {
            "tags": [],
            "needs_background": "light"
          }
        }
      ]
    },
    {
      "cell_type": "code",
      "metadata": {
        "id": "46eZ7v5S1Ww6",
        "colab_type": "code",
        "colab": {
          "base_uri": "https://localhost:8080/",
          "height": 51
        },
        "outputId": "609187b6-dfb6-45d4-fa8f-63c6e50dd631"
      },
      "source": [
        "model3.evaluate(x_test_scaler,y_test)"
      ],
      "execution_count": 25,
      "outputs": [
        {
          "output_type": "stream",
          "text": [
            "313/313 [==============================] - 1s 2ms/step - loss: 0.3737 - accuracy: 0.8778\n"
          ],
          "name": "stdout"
        },
        {
          "output_type": "execute_result",
          "data": {
            "text/plain": [
              "[0.3736780881881714, 0.8777999877929688]"
            ]
          },
          "metadata": {
            "tags": []
          },
          "execution_count": 25
        }
      ]
    }
  ]
}